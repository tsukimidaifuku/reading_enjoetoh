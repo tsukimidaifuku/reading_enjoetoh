{
 "cells": [
  {
   "cell_type": "code",
   "execution_count": null,
   "metadata": {},
   "outputs": [],
   "source": [
    "import MeCab"
   ]
  },
  {
   "cell_type": "code",
   "execution_count": null,
   "metadata": {},
   "outputs": [],
   "source": [
    "path = \"./stories/えんしろ001.txt\"\n",
    "wakati = MeCab.Tagger(\"-Owakati\")"
   ]
  },
  {
   "cell_type": "code",
   "execution_count": null,
   "metadata": {},
   "outputs": [],
   "source": [
    "with open(path) as f:\n",
    "    s = f.read()\n",
    "\n",
    "data = wakati.parse(s).split()\n"
   ]
  },
  {
   "cell_type": "markdown",
   "metadata": {},
   "source": [
    "# Zipf側"
   ]
  },
  {
   "cell_type": "code",
   "execution_count": 6,
   "metadata": {},
   "outputs": [],
   "source": [
    "import MeCab\n",
    "wakati = MeCab.Tagger(\"-Owakati\")"
   ]
  },
  {
   "cell_type": "code",
   "execution_count": 7,
   "metadata": {},
   "outputs": [],
   "source": [
    "def read_file(path):\n",
    "    with open(path) as f:\n",
    "        txt = f.read()\n",
    "    return txt"
   ]
  },
  {
   "cell_type": "code",
   "execution_count": 10,
   "metadata": {},
   "outputs": [],
   "source": [
    "data = []\n",
    "\n",
    "for i in range(1,102):\n",
    "    num = str(i).zfill(3)\n",
    "    path = f\"./stories/えんしろ{num}.txt\"\n",
    "    txt = read_file(path)\n",
    "    data.append(wakati.parse(txt).split())"
   ]
  },
  {
   "cell_type": "code",
   "execution_count": 11,
   "metadata": {},
   "outputs": [
    {
     "name": "stdout",
     "output_type": "stream",
     "text": [
      "['通信', '記録', '保管', '所', 'え', 'ん', 'しろ', '00', ':', '注文']\n"
     ]
    }
   ],
   "source": [
    "flatten_data = [item for sublist in data for item in sublist]"
   ]
  },
  {
   "cell_type": "code",
   "execution_count": 33,
   "metadata": {},
   "outputs": [
    {
     "name": "stdout",
     "output_type": "stream",
     "text": [
      "[('の', 6409), ('、', 6325), ('は', 5351), ('。', 5347), ('に', 4644), ('と', 4508), ('て', 4453), ('を', 3825), ('が', 3700), ('で', 3108), ('た', 3092), ('も', 1970), ('し', 1807), ('ない', 1731), ('「', 1720), ('」', 1720), ('か', 1568), ('だ', 1353), ('こと', 1266), ('いう', 1256), ('な', 1243), ('いる', 1037), ('ある', 917), ('する', 787), ('から', 665), ('れ', 653), ('もの', 625), ('い', 622), ('わたし', 616), ('さ', 603), ('その', 539), ('そう', 487), ('それ', 449), ('よう', 371), ('ば', 352), ('って', 339), ('自分', 329), ('あり', 316), ('言う', 314), ('なる', 295), ('れる', 295), ('この', 280), ('あっ', 280), ('へ', 266), ('者', 265), ('ん', 264), ('なく', 261), ('たち', 248), ('たり', 248), ('人', 245), ('なかっ', 240), ('です', 240), ('中', 228), ('方', 227), ('なら', 227), ('なっ', 223), ('一', 219), ('だけ', 215), ('わけ', 206), ('的', 199), ('でき', 199), ('どう', 195), ('ところ', 185), ('られ', 184), ('や', 181), ('なん', 177), ('何', 175), ('これ', 170), ('いく', 158), ('まで', 157), ('話', 156), ('とき', 155), ('花', 155), ('き', 154), ('なに', 153), ('よ', 152), ('希', 152), ('より', 151), ('だっ', 148), ('時間', 147), ('ね', 147), ('世界', 146), ('誰', 144), ('お', 144), ('だろう', 138), ('わから', 135), ('気', 135), ('今', 135), ('思う', 134), ('ます', 133), ('じゃ', 133), ('みたい', 129), ('人間', 128), ('どこ', 128), ('できる', 126), ('そんな', 125), ('手', 123), ('くる', 117), ('いっ', 116), ('考え', 116)]\n"
     ]
    }
   ],
   "source": [
    "import collections\n",
    "c = collections.Counter(flatten_data)\n",
    "\n",
    "sorted_c = sorted(c.items(), key=lambda x:x[1], reverse=True)\n",
    "print(sorted_c[:100])"
   ]
  },
  {
   "cell_type": "code",
   "execution_count": 29,
   "metadata": {},
   "outputs": [
    {
     "name": "stdout",
     "output_type": "stream",
     "text": [
      "[6409, 6325, 5351, 5347, 4644, 4508, 4453, 3825, 3700, 3108]\n"
     ]
    }
   ],
   "source": [
    "nums = [v for k, v in sorted_c]\n",
    "print(nums[:10])"
   ]
  },
  {
   "cell_type": "code",
   "execution_count": 32,
   "metadata": {},
   "outputs": [
    {
     "data": {
      "image/png": "[encoded data removed]",
      "text/plain": [
       "<Figure size 640x480 with 1 Axes>"
      ]
     },
     "metadata": {},
     "output_type": "display_data"
    }
   ],
   "source": [
    "import matplotlib.pyplot as plt\n",
    "\n",
    "plt.xscale(\"log\")\n",
    "plt.yscale(\"log\")\n",
    "plt.scatter(x = range(1, len(nums)+1), y=nums)\n",
    "plt.xlabel('Rank')\n",
    "plt.ylabel('Frequency')\n",
    "plt.show()"
   ]
  }
 ],
 "metadata": {
  "kernelspec": {
   "display_name": "Python 3",
   "language": "python",
   "name": "python3"
  },
  "language_info": {
   "codemirror_mode": {
    "name": "ipython",
    "version": 3
   },
   "file_extension": ".py",
   "mimetype": "text/x-python",
   "name": "python",
   "nbconvert_exporter": "python",
   "pygments_lexer": "ipython3",
   "version": "3.10.11"
  }
 },
 "nbformat": 4,
 "nbformat_minor": 2
}
